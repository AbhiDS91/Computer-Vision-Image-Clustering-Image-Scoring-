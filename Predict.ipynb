{
 "cells": [
  {
   "cell_type": "code",
   "execution_count": 57,
   "metadata": {},
   "outputs": [],
   "source": [
    "from tensorflow.keras import Model"
   ]
  },
  {
   "cell_type": "code",
   "execution_count": 13,
   "metadata": {},
   "outputs": [],
   "source": [
    "import os\n",
    "import glob\n",
    "import json\n",
    "import argparse\n",
    "from utils.utils import calc_mean_score, save_json\n",
    "from handlers.model_builder import Nima\n",
    "from handlers.data_generator import TestDataGenerator"
   ]
  },
  {
   "cell_type": "code",
   "execution_count": 21,
   "metadata": {},
   "outputs": [],
   "source": [
    "from os import listdir\n",
    "from os.path import isfile, join"
   ]
  },
  {
   "cell_type": "code",
   "execution_count": 27,
   "metadata": {},
   "outputs": [],
   "source": [
    "mypath ='D:/Amadeus/NIMA/ima_test'"
   ]
  },
  {
   "cell_type": "code",
   "execution_count": 32,
   "metadata": {},
   "outputs": [],
   "source": [
    "onlyfiles = [f for f in listdir(mypath) if isfile(join(mypath, f))"
   ]
  },
  {
   "cell_type": "code",
   "execution_count": null,
   "metadata": {},
   "outputs": [],
   "source": [
    "# img_paths = glob.glob(os.path.join(img_dir, '*.'+img_type))\n"
   ]
  },
  {
   "cell_type": "code",
   "execution_count": 34,
   "metadata": {},
   "outputs": [],
   "source": [
    "def image_file_to_json(img_path):\n",
    "    img_dir = os.path.dirname(img_path)\n",
    "    img_id = os.path.basename(img_path).split('.')[0]\n",
    "\n",
    "    return img_dir, [{'image_id': img_id}]"
   ]
  },
  {
   "cell_type": "code",
   "execution_count": 45,
   "metadata": {},
   "outputs": [],
   "source": [
    "def image_dir_to_json(img_dir, img_type='jpg'):\n",
    "    img_paths = glob.glob(os.path.join(img_dir, '*.'+img_type))\n",
    "\n",
    "    samples = []\n",
    "    for img_path in img_paths:\n",
    "        img_id = os.path.basename(img_path).split('.')[0]\n",
    "        samples.append({'image_id': img_id})\n",
    "\n",
    "    return samples\n"
   ]
  },
  {
   "cell_type": "code",
   "execution_count": 46,
   "metadata": {},
   "outputs": [],
   "source": [
    "def predict(model, data_generator):\n",
    "    return model.predict_generator(data_generator, workers=8, use_multiprocessing=True, verbose=1)"
   ]
  },
  {
   "cell_type": "code",
   "execution_count": 76,
   "metadata": {},
   "outputs": [],
   "source": [
    " # build model and load weights\n",
    "nima = Nima(\"MobileNet\", weights=None)\n",
    "nima.build()\n",
    "nima.nima_model.load_weights('weights_mobilenet_aesthetic_0.07.hdf5')"
   ]
  },
  {
   "cell_type": "code",
   "execution_count": 116,
   "metadata": {},
   "outputs": [],
   "source": [
    "def get_samples(image_source):\n",
    "    if os.path.isfile(image_source):\n",
    "        image_dir, samples = image_file_to_json(image_source)\n",
    "    else:\n",
    "        image_dir = image_source\n",
    "        samples = image_dir_to_json(image_dir, img_type='jpg')\n",
    "    return (samples,image_dir)"
   ]
  },
  {
   "cell_type": "code",
   "execution_count": 117,
   "metadata": {},
   "outputs": [],
   "source": [
    "test_samples = get_samples('D:/Amadeus/NIMA/ima_test')"
   ]
  },
  {
   "cell_type": "code",
   "execution_count": 131,
   "metadata": {},
   "outputs": [
    {
     "data": {
      "text/plain": [
       "95"
      ]
     },
     "execution_count": 131,
     "metadata": {},
     "output_type": "execute_result"
    }
   ],
   "source": [
    "len(test_samples[0]) # ... images "
   ]
  },
  {
   "cell_type": "code",
   "execution_count": 132,
   "metadata": {},
   "outputs": [],
   "source": [
    " data_generator = TestDataGenerator(test_samples[0], test_samples[1], 64, 10, nima.preprocessing_function(),\n",
    "                                       img_format='jpg')"
   ]
  },
  {
   "cell_type": "code",
   "execution_count": 139,
   "metadata": {},
   "outputs": [
    {
     "data": {
      "text/plain": [
       "<handlers.data_generator.TestDataGenerator at 0x16b26ecb320>"
      ]
     },
     "execution_count": 139,
     "metadata": {},
     "output_type": "execute_result"
    }
   ],
   "source": [
    "data_generator"
   ]
  },
  {
   "cell_type": "code",
   "execution_count": 120,
   "metadata": {},
   "outputs": [
    {
     "name": "stdout",
     "output_type": "stream",
     "text": [
      "WARNING:tensorflow:multiprocessing can interact badly with TensorFlow, causing nondeterministic deadlocks. For high performance data pipelines tf.data is recommended.\n",
      "1/2 [==============>...............] - ETA: 0sWARNING:tensorflow:multiprocessing can interact badly with TensorFlow, causing nondeterministic deadlocks. For high performance data pipelines tf.data is recommended.\n",
      "2/2 [==============================] - 1s 689ms/step\n"
     ]
    }
   ],
   "source": [
    "predictions = predict(nima.nima_model, data_generator)"
   ]
  },
  {
   "cell_type": "code",
   "execution_count": 121,
   "metadata": {},
   "outputs": [
    {
     "name": "stdout",
     "output_type": "stream",
     "text": [
      "{'image_id': '00000001111111', 'mean_score_prediction': 5.667959948378666}\n",
      "{'image_id': '1111111111111111111111111111', 'mean_score_prediction': 5.472509325021747}\n",
      "{'image_id': '1930336_67026505433_3938_n', 'mean_score_prediction': 4.507409295427351}\n",
      "{'image_id': '20191229_131522', 'mean_score_prediction': 3.98761538704548}\n",
      "{'image_id': 'Hao Tien', 'mean_score_prediction': 5.338753280590026}\n",
      "{'image_id': 'IMG-20190820-WA0002', 'mean_score_prediction': 5.241150526826004}\n",
      "{'image_id': 'IMG-20190820-WA0003', 'mean_score_prediction': 5.471899754862534}\n",
      "{'image_id': 'IMG-20190820-WA0004', 'mean_score_prediction': 5.35881178764248}\n",
      "{'image_id': 'IMG-20190820-WA0005', 'mean_score_prediction': 5.309744029844296}\n",
      "{'image_id': 'IMG-20190820-WA0006', 'mean_score_prediction': 4.297074595888262}\n",
      "{'image_id': 'IMG-20190820-WA0007', 'mean_score_prediction': 5.506776186259231}\n",
      "{'image_id': 'IMG-20190820-WA0008', 'mean_score_prediction': 5.382028930842353}\n",
      "{'image_id': 'IMG-20190820-WA0009', 'mean_score_prediction': 4.533988036579103}\n",
      "{'image_id': 'IMG-20190820-WA0011', 'mean_score_prediction': 4.865047540294199}\n",
      "{'image_id': 'IMG-20190820-WA0012', 'mean_score_prediction': 5.061110675582313}\n",
      "{'image_id': 'IMG-20190820-WA0013', 'mean_score_prediction': 4.8594500052931835}\n",
      "{'image_id': 'IMG-20190820-WA0014', 'mean_score_prediction': 5.127837029111106}\n",
      "{'image_id': 'IMG-20190820-WA0015', 'mean_score_prediction': 4.332453753262598}\n",
      "{'image_id': 'IMG-20190820-WA0016', 'mean_score_prediction': 4.044224116073565}\n",
      "{'image_id': 'IMG-20190820-WA0017', 'mean_score_prediction': 3.9477623600280367}\n",
      "{'image_id': 'IMG-20190820-WA0018', 'mean_score_prediction': 5.65585275428748}\n",
      "{'image_id': 'IMG-20190822-WA0001', 'mean_score_prediction': 4.969510660530432}\n",
      "{'image_id': 'IMG-20190822-WA0002', 'mean_score_prediction': 5.162533402588451}\n",
      "{'image_id': 'IMG-20190823-WA0001', 'mean_score_prediction': 5.520624954062441}\n",
      "{'image_id': 'IMG-20190825-WA0000', 'mean_score_prediction': 4.256846035765193}\n",
      "{'image_id': 'IMG-20190825-WA0014', 'mean_score_prediction': 5.306006867271208}\n",
      "{'image_id': 'IMG-20190825-WA0015', 'mean_score_prediction': 5.509396495850524}\n",
      "{'image_id': 'IMG-20190825-WA0016', 'mean_score_prediction': 4.951211788720684}\n",
      "{'image_id': 'IMG-20190825-WA0017', 'mean_score_prediction': 5.2666207262659555}\n",
      "{'image_id': 'IMG-20190825-WA0018', 'mean_score_prediction': 5.029848679114366}\n",
      "{'image_id': 'IMG-20190825-WA0019', 'mean_score_prediction': 4.886645324346318}\n",
      "{'image_id': 'IMG-20190825-WA0028', 'mean_score_prediction': 5.118220388190821}\n",
      "{'image_id': 'IMG-20190825-WA0040', 'mean_score_prediction': 5.014043476461666}\n",
      "{'image_id': 'IMG-20190825-WA0041', 'mean_score_prediction': 4.9641230508859735}\n",
      "{'image_id': 'IMG-20190825-WA0042', 'mean_score_prediction': 5.101935983853764}\n",
      "{'image_id': 'IMG-20190825-WA0043', 'mean_score_prediction': 4.791164083802869}\n",
      "{'image_id': 'IMG-20190825-WA0047', 'mean_score_prediction': 4.640181764276349}\n",
      "{'image_id': 'IMG-20190825-WA0048', 'mean_score_prediction': 5.400897700121277}\n",
      "{'image_id': 'IMG-20190825-WA0049', 'mean_score_prediction': 5.631934922144865}\n",
      "{'image_id': 'IMG-20190825-WA0050', 'mean_score_prediction': 5.41609516794415}\n",
      "{'image_id': 'IMG-20190825-WA0051', 'mean_score_prediction': 5.497206450818339}\n",
      "{'image_id': 'IMG-20190825-WA0052', 'mean_score_prediction': 5.078577575739473}\n",
      "{'image_id': 'IMG-20190825-WA0053', 'mean_score_prediction': 5.258169367160008}\n",
      "{'image_id': 'IMG-20190825-WA0054', 'mean_score_prediction': 4.561459682925488}\n",
      "{'image_id': 'IMG-20190825-WA0055', 'mean_score_prediction': 5.133806373967673}\n",
      "{'image_id': 'IMG-20190825-WA0056', 'mean_score_prediction': 5.029470801644493}\n",
      "{'image_id': 'IMG-20190827-WA0002', 'mean_score_prediction': 5.117290987749584}\n",
      "{'image_id': 'IMG-20190827-WA0004', 'mean_score_prediction': 5.456944189296337}\n",
      "{'image_id': 'IMG-20190827-WA0005', 'mean_score_prediction': 5.011847550224047}\n",
      "{'image_id': 'IMG-20190827-WA0006', 'mean_score_prediction': 5.807035953089553}\n",
      "{'image_id': 'IMG-20190827-WA0007', 'mean_score_prediction': 5.24930940590275}\n",
      "{'image_id': 'IMG-20190827-WA0014', 'mean_score_prediction': 5.462503073038533}\n",
      "{'image_id': 'IMG-20190827-WA0015', 'mean_score_prediction': 5.535704090318177}\n",
      "{'image_id': 'IMG-20190827-WA0016', 'mean_score_prediction': 5.628445891733463}\n",
      "{'image_id': 'IMG-20190827-WA0025', 'mean_score_prediction': 5.590841045975139}\n",
      "{'image_id': 'IMG-20190828-WA0000', 'mean_score_prediction': 4.830933659672155}\n",
      "{'image_id': 'IMG-20190828-WA0003', 'mean_score_prediction': 5.737846272094885}\n",
      "{'image_id': 'IMG-20190828-WA0004', 'mean_score_prediction': 5.737603027439945}\n",
      "{'image_id': 'IMG-20190828-WA0009', 'mean_score_prediction': 4.3490152793965535}\n",
      "{'image_id': 'IMG-20190828-WA0013', 'mean_score_prediction': 5.14987603785994}\n",
      "{'image_id': 'IMG-20190828-WA0014', 'mean_score_prediction': 5.117701135532116}\n",
      "{'image_id': 'IMG-20190828-WA0015', 'mean_score_prediction': 5.380425075258245}\n",
      "{'image_id': 'IMG-20190828-WA0016', 'mean_score_prediction': 4.645560450353514}\n",
      "{'image_id': 'IMG-20190828-WA0017', 'mean_score_prediction': 5.01819099552813}\n",
      "{'image_id': 'IMG-20190828-WA0028', 'mean_score_prediction': 4.942438250116538}\n",
      "{'image_id': 'IMG-20190830-WA0002', 'mean_score_prediction': 5.181076425025822}\n",
      "{'image_id': 'IMG-20190830-WA0003', 'mean_score_prediction': 5.370217987320757}\n",
      "{'image_id': 'IMG-20190830-WA0004', 'mean_score_prediction': 4.9065593358827755}\n",
      "{'image_id': 'IMG-20190830-WA0006', 'mean_score_prediction': 4.914316796694038}\n",
      "{'image_id': 'IMG-20190831-WA0002', 'mean_score_prediction': 5.011062300793128}\n",
      "{'image_id': 'IMG-20190901-WA0009', 'mean_score_prediction': 4.787381948617622}\n",
      "{'image_id': 'IMG-20190901-WA0023', 'mean_score_prediction': 5.3595780313480645}\n",
      "{'image_id': 'IMG-20190902-WA0000', 'mean_score_prediction': 5.244201051269556}\n",
      "{'image_id': 'IMG-20190902-WA0001', 'mean_score_prediction': 4.948850636137649}\n",
      "{'image_id': 'IMG-20190902-WA0002', 'mean_score_prediction': 4.70423352153739}\n",
      "{'image_id': 'IMG-20190902-WA0003', 'mean_score_prediction': 5.0939778922183905}\n",
      "{'image_id': 'IMG-20190911-WA0035', 'mean_score_prediction': 4.50851516111652}\n",
      "{'image_id': 'IMG-20190911-WA0056', 'mean_score_prediction': 4.403504916706879}\n",
      "{'image_id': 'IMG-20191031-WA0008', 'mean_score_prediction': 4.688343468864332}\n",
      "{'image_id': 'IMG-20191123-WA0004', 'mean_score_prediction': 5.407638615073665}\n",
      "{'image_id': 'IMG-20191222-WA0002', 'mean_score_prediction': 4.604440653580241}\n",
      "{'image_id': 'IMG-20200101-WA0013', 'mean_score_prediction': 5.250840971188154}\n",
      "{'image_id': 'IMG-20200309-WA0006', 'mean_score_prediction': 5.384413741696335}\n",
      "{'image_id': 'IMG-20200315-WA0030', 'mean_score_prediction': 4.710551096093695}\n",
      "{'image_id': 'IMG-20200315-WA0032', 'mean_score_prediction': 4.858767309859104}\n",
      "{'image_id': 'IMG-20200414-WA0036', 'mean_score_prediction': 4.73626404805691}\n",
      "{'image_id': 'IMG-20200504-WA0003', 'mean_score_prediction': 4.67921658900741}\n",
      "{'image_id': 'IMG-20200515-WA0015', 'mean_score_prediction': 5.065468945889734}\n",
      "{'image_id': 'IMG-20200523-WA0001', 'mean_score_prediction': 5.276055837619197}\n",
      "{'image_id': 'IMG-20200523-WA0002', 'mean_score_prediction': 5.575689435099335}\n",
      "{'image_id': 'IMG-20200523-WA0013', 'mean_score_prediction': 6.001948446208715}\n",
      "{'image_id': 'IMG-20200612-WA0006', 'mean_score_prediction': 4.731316549031362}\n",
      "{'image_id': 'IMG-20200612-WA0013', 'mean_score_prediction': 5.249757958668852}\n",
      "{'image_id': 'IMG-20200612-WA0014', 'mean_score_prediction': 6.000435795338813}\n",
      "{'image_id': 'IMG_8268', 'mean_score_prediction': 5.464318769168813}\n"
     ]
    }
   ],
   "source": [
    "for i, sample in enumerate(test_samples[0]):\n",
    "        sample['mean_score_prediction'] = calc_mean_score(predictions[i])\n",
    "        print(sample)"
   ]
  },
  {
   "cell_type": "code",
   "execution_count": 103,
   "metadata": {},
   "outputs": [
    {
     "data": {
      "text/plain": [
       "{'image_id': 'IMG_8268', 'mean_score_prediction': 5.46431887482936}"
      ]
     },
     "execution_count": 103,
     "metadata": {},
     "output_type": "execute_result"
    }
   ],
   "source": [
    "sample"
   ]
  },
  {
   "cell_type": "code",
   "execution_count": 87,
   "metadata": {},
   "outputs": [],
   "source": [
    "# model1.load_weights('weights_mobilenet_aesthetic_0.07.hdf5')"
   ]
  },
  {
   "cell_type": "code",
   "execution_count": null,
   "metadata": {},
   "outputs": [],
   "source": [
    "tf.keras.models.load_model(\n",
    "    filepath, custom_objects=None, compile=True, options=None\n",
    ")"
   ]
  },
  {
   "cell_type": "code",
   "execution_count": 47,
   "metadata": {},
   "outputs": [],
   "source": [
    "def main_func(base_model_name, weights_file, image_source, predictions_file, img_format='jpg'):\n",
    "    # load samples\n",
    "    if os.path.isfile(image_source):\n",
    "        image_dir, samples = image_file_to_json(image_source)\n",
    "    else:\n",
    "        image_dir = image_source\n",
    "        samples = image_dir_to_json(image_dir, img_type='jpg')\n",
    "\n",
    "    # build model and load weights\n",
    "    nima = Nima(base_model_name, weights=None)\n",
    "    nima.build()\n",
    "    nima.nima_model.load_weights(weights_file)\n",
    "\n",
    "    # initialize data generator\n",
    "    data_generator = TestDataGenerator(samples, image_dir, 64, 10, nima.preprocessing_function(),\n",
    "                                       img_format=img_format)\n",
    "\n",
    "    # get predictions\n",
    "    predictions = predict(nima.nima_model, data_generator)\n",
    "\n",
    "    # calc mean scores and add to samples\n",
    "    for i, sample in enumerate(samples):\n",
    "        sample['mean_score_prediction'] = calc_mean_score(predictions[i])\n",
    "\n",
    "    print(json.dumps(samples, indent=2))\n",
    "\n",
    "    if predictions_file is not None:\n",
    "        save_json(samples, predictions_file)"
   ]
  }
 ],
 "metadata": {
  "kernelspec": {
   "display_name": "Python 3",
   "language": "python",
   "name": "python3"
  },
  "language_info": {
   "codemirror_mode": {
    "name": "ipython",
    "version": 3
   },
   "file_extension": ".py",
   "mimetype": "text/x-python",
   "name": "python",
   "nbconvert_exporter": "python",
   "pygments_lexer": "ipython3",
   "version": "3.7.0"
  }
 },
 "nbformat": 4,
 "nbformat_minor": 4
}
